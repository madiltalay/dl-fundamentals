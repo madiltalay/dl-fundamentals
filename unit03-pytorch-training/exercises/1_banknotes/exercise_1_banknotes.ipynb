{
  "cells": [
    {
      "cell_type": "markdown",
      "id": "29dc571a-e16a-47fa-b456-c4d9367b87a5",
      "metadata": {
        "id": "29dc571a-e16a-47fa-b456-c4d9367b87a5"
      },
      "source": [
        "# Unit 3, Exercise 1: Banknote Authentication"
      ]
    },
    {
      "cell_type": "markdown",
      "id": "48f20142-5f08-4b33-a4e5-ec1315c5a8ff",
      "metadata": {
        "id": "48f20142-5f08-4b33-a4e5-ec1315c5a8ff"
      },
      "source": [
        "In this exercise, we are applying logistic regression to a banknote authentication dataset to distinguish between genuine and forged bank notes.\n",
        "\n",
        "\n",
        "**The dataset consists of 1372 examples and 4 features for binary classification.** The features are\n",
        "\n",
        "1. variance of a wavelet-transformed image (continuous)\n",
        "2. skewness of a wavelet-transformed image (continuous)\n",
        "3. kurtosis of a wavelet-transformed image (continuous)\n",
        "4. entropy of the image (continuous)\n",
        "\n",
        "(You can fine more details about this dataset at [https://archive.ics.uci.edu/ml/datasets/banknote+authentication](https://archive.ics.uci.edu/ml/datasets/banknote+authentication).)\n",
        "\n",
        "\n",
        "In essence, these four features represent features that were manually extracted from image data. Note that you do not need the details of these features for this exercise.\n",
        "\n",
        "However, you are encouraged to explore the dataset further, e.g., by plotting the features, looking at the value ranges, and so forth. (We will skip these steps for brevity in this exercise)\n",
        "\n",
        "Most of the code should look familiar to you since it is based on the logistic regression code from Unit 3.6."
      ]
    },
    {
      "cell_type": "markdown",
      "id": "5649ce4a-7db3-4716-9fd1-d2db9af5f834",
      "metadata": {
        "id": "5649ce4a-7db3-4716-9fd1-d2db9af5f834"
      },
      "source": [
        "## 1) Installing Libraries"
      ]
    },
    {
      "cell_type": "markdown",
      "id": "3ea64205-ec41-42db-8167-cd547453354f",
      "metadata": {
        "id": "3ea64205-ec41-42db-8167-cd547453354f"
      },
      "source": [
        "You likely already have all libraries installed and don't need to do anything here."
      ]
    },
    {
      "cell_type": "code",
      "execution_count": 1,
      "id": "ac7e723b-08af-4274-8925-bda4ef60f91a",
      "metadata": {
        "id": "ac7e723b-08af-4274-8925-bda4ef60f91a"
      },
      "outputs": [],
      "source": [
        "# !conda install numpy pandas matplotlib --yes"
      ]
    },
    {
      "cell_type": "code",
      "execution_count": 2,
      "id": "ee966b7b-27cb-4484-b256-8d79f55dc48a",
      "metadata": {
        "id": "ee966b7b-27cb-4484-b256-8d79f55dc48a"
      },
      "outputs": [],
      "source": [
        "# !pip install torch"
      ]
    },
    {
      "cell_type": "code",
      "execution_count": 6,
      "id": "1d5d7bb5-c818-4d8c-b6ce-9c6d8fb4ebdf",
      "metadata": {
        "id": "1d5d7bb5-c818-4d8c-b6ce-9c6d8fb4ebdf",
        "outputId": "deb80812-329d-4e20-fe4f-a7085476881c",
        "colab": {
          "base_uri": "https://localhost:8080/"
        }
      },
      "outputs": [
        {
          "output_type": "stream",
          "name": "stdout",
          "text": [
            "Collecting watermark\n",
            "  Downloading watermark-2.5.0-py2.py3-none-any.whl.metadata (1.4 kB)\n",
            "Requirement already satisfied: ipython>=6.0 in /usr/local/lib/python3.10/dist-packages (from watermark) (7.34.0)\n",
            "Requirement already satisfied: importlib-metadata>=1.4 in /usr/local/lib/python3.10/dist-packages (from watermark) (8.5.0)\n",
            "Requirement already satisfied: setuptools in /usr/local/lib/python3.10/dist-packages (from watermark) (75.1.0)\n",
            "Requirement already satisfied: zipp>=3.20 in /usr/local/lib/python3.10/dist-packages (from importlib-metadata>=1.4->watermark) (3.21.0)\n",
            "Collecting jedi>=0.16 (from ipython>=6.0->watermark)\n",
            "  Downloading jedi-0.19.2-py2.py3-none-any.whl.metadata (22 kB)\n",
            "Requirement already satisfied: decorator in /usr/local/lib/python3.10/dist-packages (from ipython>=6.0->watermark) (4.4.2)\n",
            "Requirement already satisfied: pickleshare in /usr/local/lib/python3.10/dist-packages (from ipython>=6.0->watermark) (0.7.5)\n",
            "Requirement already satisfied: traitlets>=4.2 in /usr/local/lib/python3.10/dist-packages (from ipython>=6.0->watermark) (5.7.1)\n",
            "Requirement already satisfied: prompt-toolkit!=3.0.0,!=3.0.1,<3.1.0,>=2.0.0 in /usr/local/lib/python3.10/dist-packages (from ipython>=6.0->watermark) (3.0.48)\n",
            "Requirement already satisfied: pygments in /usr/local/lib/python3.10/dist-packages (from ipython>=6.0->watermark) (2.18.0)\n",
            "Requirement already satisfied: backcall in /usr/local/lib/python3.10/dist-packages (from ipython>=6.0->watermark) (0.2.0)\n",
            "Requirement already satisfied: matplotlib-inline in /usr/local/lib/python3.10/dist-packages (from ipython>=6.0->watermark) (0.1.7)\n",
            "Requirement already satisfied: pexpect>4.3 in /usr/local/lib/python3.10/dist-packages (from ipython>=6.0->watermark) (4.9.0)\n",
            "Requirement already satisfied: parso<0.9.0,>=0.8.4 in /usr/local/lib/python3.10/dist-packages (from jedi>=0.16->ipython>=6.0->watermark) (0.8.4)\n",
            "Requirement already satisfied: ptyprocess>=0.5 in /usr/local/lib/python3.10/dist-packages (from pexpect>4.3->ipython>=6.0->watermark) (0.7.0)\n",
            "Requirement already satisfied: wcwidth in /usr/local/lib/python3.10/dist-packages (from prompt-toolkit!=3.0.0,!=3.0.1,<3.1.0,>=2.0.0->ipython>=6.0->watermark) (0.2.13)\n",
            "Downloading watermark-2.5.0-py2.py3-none-any.whl (7.7 kB)\n",
            "Downloading jedi-0.19.2-py2.py3-none-any.whl (1.6 MB)\n",
            "\u001b[2K   \u001b[90m━━━━━━━━━━━━━━━━━━━━━━━━━━━━━━━━━━━━━━━━\u001b[0m \u001b[32m1.6/1.6 MB\u001b[0m \u001b[31m20.3 MB/s\u001b[0m eta \u001b[36m0:00:00\u001b[0m\n",
            "\u001b[?25hInstalling collected packages: jedi, watermark\n",
            "Successfully installed jedi-0.19.2 watermark-2.5.0\n"
          ]
        }
      ],
      "source": [
        "!pip install watermark"
      ]
    },
    {
      "cell_type": "code",
      "execution_count": 7,
      "id": "3822a1f2-6b48-4826-9bf4-adbe06c65a37",
      "metadata": {
        "id": "3822a1f2-6b48-4826-9bf4-adbe06c65a37",
        "outputId": "bcf0da10-28f8-4806-c2b7-031a70159edc",
        "colab": {
          "base_uri": "https://localhost:8080/"
        }
      },
      "outputs": [
        {
          "output_type": "stream",
          "name": "stdout",
          "text": [
            "Python implementation: CPython\n",
            "Python version       : 3.10.12\n",
            "IPython version      : 7.34.0\n",
            "\n",
            "numpy     : 1.26.4\n",
            "pandas    : 2.2.2\n",
            "matplotlib: 3.8.0\n",
            "torch     : 2.5.1+cu121\n",
            "\n"
          ]
        }
      ],
      "source": [
        "%load_ext watermark\n",
        "%watermark -v -p numpy,pandas,matplotlib,torch"
      ]
    },
    {
      "cell_type": "markdown",
      "id": "157c6970-2b47-49a1-ba50-59bf738526ce",
      "metadata": {
        "tags": [],
        "id": "157c6970-2b47-49a1-ba50-59bf738526ce"
      },
      "source": [
        "## 2) Loading the Dataset"
      ]
    },
    {
      "cell_type": "markdown",
      "id": "6638725c-02ee-44db-b661-d882dd191185",
      "metadata": {
        "id": "6638725c-02ee-44db-b661-d882dd191185"
      },
      "source": [
        "We are using the familiar `read_csv` function from pandas to load the dataset:"
      ]
    },
    {
      "cell_type": "code",
      "execution_count": 8,
      "id": "ab70cfad-f8bb-4076-b22e-dffa4f8a48fa",
      "metadata": {
        "id": "ab70cfad-f8bb-4076-b22e-dffa4f8a48fa"
      },
      "outputs": [],
      "source": [
        "import pandas as pd"
      ]
    },
    {
      "cell_type": "code",
      "execution_count": 13,
      "id": "bb8965ae-5222-4541-a7c6-7a9aaa4d1033",
      "metadata": {
        "id": "bb8965ae-5222-4541-a7c6-7a9aaa4d1033",
        "outputId": "556f2b1d-210e-4444-96e5-3e1b9de8a7ec",
        "colab": {
          "base_uri": "https://localhost:8080/",
          "height": 206
        }
      },
      "outputs": [
        {
          "output_type": "execute_result",
          "data": {
            "text/plain": [
              "         0       1       2        3  4\n",
              "0  3.62160  8.6661 -2.8073 -0.44699  0\n",
              "1  4.54590  8.1674 -2.4586 -1.46210  0\n",
              "2  3.86600 -2.6383  1.9242  0.10645  0\n",
              "3  3.45660  9.5228 -4.0112 -3.59440  0\n",
              "4  0.32924 -4.4552  4.5718 -0.98880  0"
            ],
            "text/html": [
              "\n",
              "  <div id=\"df-8d39ea9b-1055-4004-ad2c-d44a845c7bdb\" class=\"colab-df-container\">\n",
              "    <div>\n",
              "<style scoped>\n",
              "    .dataframe tbody tr th:only-of-type {\n",
              "        vertical-align: middle;\n",
              "    }\n",
              "\n",
              "    .dataframe tbody tr th {\n",
              "        vertical-align: top;\n",
              "    }\n",
              "\n",
              "    .dataframe thead th {\n",
              "        text-align: right;\n",
              "    }\n",
              "</style>\n",
              "<table border=\"1\" class=\"dataframe\">\n",
              "  <thead>\n",
              "    <tr style=\"text-align: right;\">\n",
              "      <th></th>\n",
              "      <th>0</th>\n",
              "      <th>1</th>\n",
              "      <th>2</th>\n",
              "      <th>3</th>\n",
              "      <th>4</th>\n",
              "    </tr>\n",
              "  </thead>\n",
              "  <tbody>\n",
              "    <tr>\n",
              "      <th>0</th>\n",
              "      <td>3.62160</td>\n",
              "      <td>8.6661</td>\n",
              "      <td>-2.8073</td>\n",
              "      <td>-0.44699</td>\n",
              "      <td>0</td>\n",
              "    </tr>\n",
              "    <tr>\n",
              "      <th>1</th>\n",
              "      <td>4.54590</td>\n",
              "      <td>8.1674</td>\n",
              "      <td>-2.4586</td>\n",
              "      <td>-1.46210</td>\n",
              "      <td>0</td>\n",
              "    </tr>\n",
              "    <tr>\n",
              "      <th>2</th>\n",
              "      <td>3.86600</td>\n",
              "      <td>-2.6383</td>\n",
              "      <td>1.9242</td>\n",
              "      <td>0.10645</td>\n",
              "      <td>0</td>\n",
              "    </tr>\n",
              "    <tr>\n",
              "      <th>3</th>\n",
              "      <td>3.45660</td>\n",
              "      <td>9.5228</td>\n",
              "      <td>-4.0112</td>\n",
              "      <td>-3.59440</td>\n",
              "      <td>0</td>\n",
              "    </tr>\n",
              "    <tr>\n",
              "      <th>4</th>\n",
              "      <td>0.32924</td>\n",
              "      <td>-4.4552</td>\n",
              "      <td>4.5718</td>\n",
              "      <td>-0.98880</td>\n",
              "      <td>0</td>\n",
              "    </tr>\n",
              "  </tbody>\n",
              "</table>\n",
              "</div>\n",
              "    <div class=\"colab-df-buttons\">\n",
              "\n",
              "  <div class=\"colab-df-container\">\n",
              "    <button class=\"colab-df-convert\" onclick=\"convertToInteractive('df-8d39ea9b-1055-4004-ad2c-d44a845c7bdb')\"\n",
              "            title=\"Convert this dataframe to an interactive table.\"\n",
              "            style=\"display:none;\">\n",
              "\n",
              "  <svg xmlns=\"http://www.w3.org/2000/svg\" height=\"24px\" viewBox=\"0 -960 960 960\">\n",
              "    <path d=\"M120-120v-720h720v720H120Zm60-500h600v-160H180v160Zm220 220h160v-160H400v160Zm0 220h160v-160H400v160ZM180-400h160v-160H180v160Zm440 0h160v-160H620v160ZM180-180h160v-160H180v160Zm440 0h160v-160H620v160Z\"/>\n",
              "  </svg>\n",
              "    </button>\n",
              "\n",
              "  <style>\n",
              "    .colab-df-container {\n",
              "      display:flex;\n",
              "      gap: 12px;\n",
              "    }\n",
              "\n",
              "    .colab-df-convert {\n",
              "      background-color: #E8F0FE;\n",
              "      border: none;\n",
              "      border-radius: 50%;\n",
              "      cursor: pointer;\n",
              "      display: none;\n",
              "      fill: #1967D2;\n",
              "      height: 32px;\n",
              "      padding: 0 0 0 0;\n",
              "      width: 32px;\n",
              "    }\n",
              "\n",
              "    .colab-df-convert:hover {\n",
              "      background-color: #E2EBFA;\n",
              "      box-shadow: 0px 1px 2px rgba(60, 64, 67, 0.3), 0px 1px 3px 1px rgba(60, 64, 67, 0.15);\n",
              "      fill: #174EA6;\n",
              "    }\n",
              "\n",
              "    .colab-df-buttons div {\n",
              "      margin-bottom: 4px;\n",
              "    }\n",
              "\n",
              "    [theme=dark] .colab-df-convert {\n",
              "      background-color: #3B4455;\n",
              "      fill: #D2E3FC;\n",
              "    }\n",
              "\n",
              "    [theme=dark] .colab-df-convert:hover {\n",
              "      background-color: #434B5C;\n",
              "      box-shadow: 0px 1px 3px 1px rgba(0, 0, 0, 0.15);\n",
              "      filter: drop-shadow(0px 1px 2px rgba(0, 0, 0, 0.3));\n",
              "      fill: #FFFFFF;\n",
              "    }\n",
              "  </style>\n",
              "\n",
              "    <script>\n",
              "      const buttonEl =\n",
              "        document.querySelector('#df-8d39ea9b-1055-4004-ad2c-d44a845c7bdb button.colab-df-convert');\n",
              "      buttonEl.style.display =\n",
              "        google.colab.kernel.accessAllowed ? 'block' : 'none';\n",
              "\n",
              "      async function convertToInteractive(key) {\n",
              "        const element = document.querySelector('#df-8d39ea9b-1055-4004-ad2c-d44a845c7bdb');\n",
              "        const dataTable =\n",
              "          await google.colab.kernel.invokeFunction('convertToInteractive',\n",
              "                                                    [key], {});\n",
              "        if (!dataTable) return;\n",
              "\n",
              "        const docLinkHtml = 'Like what you see? Visit the ' +\n",
              "          '<a target=\"_blank\" href=https://colab.research.google.com/notebooks/data_table.ipynb>data table notebook</a>'\n",
              "          + ' to learn more about interactive tables.';\n",
              "        element.innerHTML = '';\n",
              "        dataTable['output_type'] = 'display_data';\n",
              "        await google.colab.output.renderOutput(dataTable, element);\n",
              "        const docLink = document.createElement('div');\n",
              "        docLink.innerHTML = docLinkHtml;\n",
              "        element.appendChild(docLink);\n",
              "      }\n",
              "    </script>\n",
              "  </div>\n",
              "\n",
              "\n",
              "<div id=\"df-f3313466-5dcd-449a-aa07-bc9b030d526d\">\n",
              "  <button class=\"colab-df-quickchart\" onclick=\"quickchart('df-f3313466-5dcd-449a-aa07-bc9b030d526d')\"\n",
              "            title=\"Suggest charts\"\n",
              "            style=\"display:none;\">\n",
              "\n",
              "<svg xmlns=\"http://www.w3.org/2000/svg\" height=\"24px\"viewBox=\"0 0 24 24\"\n",
              "     width=\"24px\">\n",
              "    <g>\n",
              "        <path d=\"M19 3H5c-1.1 0-2 .9-2 2v14c0 1.1.9 2 2 2h14c1.1 0 2-.9 2-2V5c0-1.1-.9-2-2-2zM9 17H7v-7h2v7zm4 0h-2V7h2v10zm4 0h-2v-4h2v4z\"/>\n",
              "    </g>\n",
              "</svg>\n",
              "  </button>\n",
              "\n",
              "<style>\n",
              "  .colab-df-quickchart {\n",
              "      --bg-color: #E8F0FE;\n",
              "      --fill-color: #1967D2;\n",
              "      --hover-bg-color: #E2EBFA;\n",
              "      --hover-fill-color: #174EA6;\n",
              "      --disabled-fill-color: #AAA;\n",
              "      --disabled-bg-color: #DDD;\n",
              "  }\n",
              "\n",
              "  [theme=dark] .colab-df-quickchart {\n",
              "      --bg-color: #3B4455;\n",
              "      --fill-color: #D2E3FC;\n",
              "      --hover-bg-color: #434B5C;\n",
              "      --hover-fill-color: #FFFFFF;\n",
              "      --disabled-bg-color: #3B4455;\n",
              "      --disabled-fill-color: #666;\n",
              "  }\n",
              "\n",
              "  .colab-df-quickchart {\n",
              "    background-color: var(--bg-color);\n",
              "    border: none;\n",
              "    border-radius: 50%;\n",
              "    cursor: pointer;\n",
              "    display: none;\n",
              "    fill: var(--fill-color);\n",
              "    height: 32px;\n",
              "    padding: 0;\n",
              "    width: 32px;\n",
              "  }\n",
              "\n",
              "  .colab-df-quickchart:hover {\n",
              "    background-color: var(--hover-bg-color);\n",
              "    box-shadow: 0 1px 2px rgba(60, 64, 67, 0.3), 0 1px 3px 1px rgba(60, 64, 67, 0.15);\n",
              "    fill: var(--button-hover-fill-color);\n",
              "  }\n",
              "\n",
              "  .colab-df-quickchart-complete:disabled,\n",
              "  .colab-df-quickchart-complete:disabled:hover {\n",
              "    background-color: var(--disabled-bg-color);\n",
              "    fill: var(--disabled-fill-color);\n",
              "    box-shadow: none;\n",
              "  }\n",
              "\n",
              "  .colab-df-spinner {\n",
              "    border: 2px solid var(--fill-color);\n",
              "    border-color: transparent;\n",
              "    border-bottom-color: var(--fill-color);\n",
              "    animation:\n",
              "      spin 1s steps(1) infinite;\n",
              "  }\n",
              "\n",
              "  @keyframes spin {\n",
              "    0% {\n",
              "      border-color: transparent;\n",
              "      border-bottom-color: var(--fill-color);\n",
              "      border-left-color: var(--fill-color);\n",
              "    }\n",
              "    20% {\n",
              "      border-color: transparent;\n",
              "      border-left-color: var(--fill-color);\n",
              "      border-top-color: var(--fill-color);\n",
              "    }\n",
              "    30% {\n",
              "      border-color: transparent;\n",
              "      border-left-color: var(--fill-color);\n",
              "      border-top-color: var(--fill-color);\n",
              "      border-right-color: var(--fill-color);\n",
              "    }\n",
              "    40% {\n",
              "      border-color: transparent;\n",
              "      border-right-color: var(--fill-color);\n",
              "      border-top-color: var(--fill-color);\n",
              "    }\n",
              "    60% {\n",
              "      border-color: transparent;\n",
              "      border-right-color: var(--fill-color);\n",
              "    }\n",
              "    80% {\n",
              "      border-color: transparent;\n",
              "      border-right-color: var(--fill-color);\n",
              "      border-bottom-color: var(--fill-color);\n",
              "    }\n",
              "    90% {\n",
              "      border-color: transparent;\n",
              "      border-bottom-color: var(--fill-color);\n",
              "    }\n",
              "  }\n",
              "</style>\n",
              "\n",
              "  <script>\n",
              "    async function quickchart(key) {\n",
              "      const quickchartButtonEl =\n",
              "        document.querySelector('#' + key + ' button');\n",
              "      quickchartButtonEl.disabled = true;  // To prevent multiple clicks.\n",
              "      quickchartButtonEl.classList.add('colab-df-spinner');\n",
              "      try {\n",
              "        const charts = await google.colab.kernel.invokeFunction(\n",
              "            'suggestCharts', [key], {});\n",
              "      } catch (error) {\n",
              "        console.error('Error during call to suggestCharts:', error);\n",
              "      }\n",
              "      quickchartButtonEl.classList.remove('colab-df-spinner');\n",
              "      quickchartButtonEl.classList.add('colab-df-quickchart-complete');\n",
              "    }\n",
              "    (() => {\n",
              "      let quickchartButtonEl =\n",
              "        document.querySelector('#df-f3313466-5dcd-449a-aa07-bc9b030d526d button');\n",
              "      quickchartButtonEl.style.display =\n",
              "        google.colab.kernel.accessAllowed ? 'block' : 'none';\n",
              "    })();\n",
              "  </script>\n",
              "</div>\n",
              "\n",
              "    </div>\n",
              "  </div>\n"
            ],
            "application/vnd.google.colaboratory.intrinsic+json": {
              "type": "dataframe",
              "variable_name": "df",
              "summary": "{\n  \"name\": \"df\",\n  \"rows\": 1372,\n  \"fields\": [\n    {\n      \"column\": 0,\n      \"properties\": {\n        \"dtype\": \"number\",\n        \"std\": 2.842762586278562,\n        \"min\": -7.0421,\n        \"max\": 6.8248,\n        \"num_unique_values\": 1338,\n        \"samples\": [\n          -2.286,\n          -0.539,\n          0.89512\n        ],\n        \"semantic_type\": \"\",\n        \"description\": \"\"\n      }\n    },\n    {\n      \"column\": 1,\n      \"properties\": {\n        \"dtype\": \"number\",\n        \"std\": 5.869046743695522,\n        \"min\": -13.7731,\n        \"max\": 12.9516,\n        \"num_unique_values\": 1256,\n        \"samples\": [\n          11.2217,\n          -4.6145,\n          6.1499\n        ],\n        \"semantic_type\": \"\",\n        \"description\": \"\"\n      }\n    },\n    {\n      \"column\": 2,\n      \"properties\": {\n        \"dtype\": \"number\",\n        \"std\": 4.310030090106595,\n        \"min\": -5.2861,\n        \"max\": 17.9274,\n        \"num_unique_values\": 1270,\n        \"samples\": [\n          7.8981,\n          9.8208,\n          0.20021\n        ],\n        \"semantic_type\": \"\",\n        \"description\": \"\"\n      }\n    },\n    {\n      \"column\": 3,\n      \"properties\": {\n        \"dtype\": \"number\",\n        \"std\": 2.1010131373596095,\n        \"min\": -8.5482,\n        \"max\": 2.4495,\n        \"num_unique_values\": 1156,\n        \"samples\": [\n          1.0271,\n          0.90946,\n          -0.026738\n        ],\n        \"semantic_type\": \"\",\n        \"description\": \"\"\n      }\n    },\n    {\n      \"column\": 4,\n      \"properties\": {\n        \"dtype\": \"number\",\n        \"std\": 0,\n        \"min\": 0,\n        \"max\": 1,\n        \"num_unique_values\": 2,\n        \"samples\": [\n          1,\n          0\n        ],\n        \"semantic_type\": \"\",\n        \"description\": \"\"\n      }\n    }\n  ]\n}"
            }
          },
          "metadata": {},
          "execution_count": 13
        }
      ],
      "source": [
        "# url = \"https://github.com/Lightning-AI/dl-fundamentals/blob/main/unit03-pytorch-training/exercises/2_standardization/data_banknote_authentication.txt\"\n",
        "df = pd.read_csv(\"/content/data_banknote_authentication.txt\", header=None, sep=',')\n",
        "df.head()"
      ]
    },
    {
      "cell_type": "code",
      "execution_count": 14,
      "id": "860304f1-1b8c-4993-b547-20e2dcceb03b",
      "metadata": {
        "id": "860304f1-1b8c-4993-b547-20e2dcceb03b"
      },
      "outputs": [],
      "source": [
        "X_features = df[[0, 1, 2, 3]].values\n",
        "y_labels = df[4].values"
      ]
    },
    {
      "cell_type": "markdown",
      "id": "a4d2ebb2-d83f-4729-85ed-9437e105b9b8",
      "metadata": {
        "id": "a4d2ebb2-d83f-4729-85ed-9437e105b9b8"
      },
      "source": [
        "Number of examples and features:"
      ]
    },
    {
      "cell_type": "code",
      "execution_count": 15,
      "id": "6f342b22-0fde-436a-a121-00e9ce627512",
      "metadata": {
        "id": "6f342b22-0fde-436a-a121-00e9ce627512",
        "outputId": "35345196-d56d-4c1e-e49e-62804a371d97",
        "colab": {
          "base_uri": "https://localhost:8080/"
        }
      },
      "outputs": [
        {
          "output_type": "execute_result",
          "data": {
            "text/plain": [
              "(1372, 4)"
            ]
          },
          "metadata": {},
          "execution_count": 15
        }
      ],
      "source": [
        "X_features.shape"
      ]
    },
    {
      "cell_type": "markdown",
      "id": "7c8e94b9-4847-4833-a7d1-afee3c18991a",
      "metadata": {
        "id": "7c8e94b9-4847-4833-a7d1-afee3c18991a"
      },
      "source": [
        "It is usually a good idea to look at the label distribution:"
      ]
    },
    {
      "cell_type": "code",
      "execution_count": 16,
      "id": "1e8247a8-101d-4195-84d3-12b6593c0099",
      "metadata": {
        "id": "1e8247a8-101d-4195-84d3-12b6593c0099",
        "outputId": "11dad0f1-b7c5-4dba-b975-ea9710ed0f4f",
        "colab": {
          "base_uri": "https://localhost:8080/"
        }
      },
      "outputs": [
        {
          "output_type": "execute_result",
          "data": {
            "text/plain": [
              "array([762, 610])"
            ]
          },
          "metadata": {},
          "execution_count": 16
        }
      ],
      "source": [
        "import numpy as np\n",
        "\n",
        "np.bincount(y_labels)"
      ]
    },
    {
      "cell_type": "markdown",
      "id": "6f7e7578-c57d-4aae-99fc-77603e202185",
      "metadata": {
        "id": "6f7e7578-c57d-4aae-99fc-77603e202185"
      },
      "source": [
        "## 3) Defining a DataLoader"
      ]
    },
    {
      "cell_type": "markdown",
      "id": "705b52c8-1635-40c8-a6f3-8c4d0d91952e",
      "metadata": {
        "id": "705b52c8-1635-40c8-a6f3-8c4d0d91952e"
      },
      "source": [
        "The `DataLoader` code is the same code we used in Unit 3.6:"
      ]
    },
    {
      "cell_type": "code",
      "execution_count": 17,
      "id": "fa4ba92f-f294-4572-8aa2-d2fa50788a9d",
      "metadata": {
        "id": "fa4ba92f-f294-4572-8aa2-d2fa50788a9d"
      },
      "outputs": [],
      "source": [
        "from torch.utils.data import Dataset, DataLoader\n",
        "\n",
        "\n",
        "class MyDataset(Dataset):\n",
        "    def __init__(self, X, y):\n",
        "\n",
        "        self.features = torch.tensor(X, dtype=torch.float32)\n",
        "        self.labels = torch.tensor(y, dtype=torch.float32)\n",
        "\n",
        "    def __getitem__(self, index):\n",
        "        x = self.features[index]\n",
        "        y = self.labels[index]\n",
        "        return x, y\n",
        "\n",
        "    def __len__(self):\n",
        "        return self.labels.shape[0]"
      ]
    },
    {
      "cell_type": "markdown",
      "id": "e2096f23-539a-40e0-affa-db0ffcd0f371",
      "metadata": {
        "id": "e2096f23-539a-40e0-affa-db0ffcd0f371"
      },
      "source": [
        "We will be using 80% of the data for training, 20% of the data for validation. In a real-project, we would also have a separate dataset for the final test set (in this case, we do not have an explicit test set)."
      ]
    },
    {
      "cell_type": "code",
      "execution_count": 18,
      "id": "f8bbd768-c15c-40f5-8500-83fad5bb1722",
      "metadata": {
        "id": "f8bbd768-c15c-40f5-8500-83fad5bb1722",
        "outputId": "97af0799-c46c-4966-b451-8bfad39951d5",
        "colab": {
          "base_uri": "https://localhost:8080/"
        }
      },
      "outputs": [
        {
          "output_type": "execute_result",
          "data": {
            "text/plain": [
              "1097"
            ]
          },
          "metadata": {},
          "execution_count": 18
        }
      ],
      "source": [
        "train_size = int(X_features.shape[0]*0.80)\n",
        "train_size"
      ]
    },
    {
      "cell_type": "code",
      "execution_count": 19,
      "id": "0b09d3d5-f4f7-47df-8160-8d883c0c5e19",
      "metadata": {
        "id": "0b09d3d5-f4f7-47df-8160-8d883c0c5e19",
        "outputId": "002edd0d-1f4c-4357-9c56-6c301c654d63",
        "colab": {
          "base_uri": "https://localhost:8080/"
        }
      },
      "outputs": [
        {
          "output_type": "execute_result",
          "data": {
            "text/plain": [
              "275"
            ]
          },
          "metadata": {},
          "execution_count": 19
        }
      ],
      "source": [
        "val_size = X_features.shape[0] - train_size\n",
        "val_size"
      ]
    },
    {
      "cell_type": "markdown",
      "id": "3e21d88e-1408-4457-a7fd-3306a9fac5a6",
      "metadata": {
        "id": "3e21d88e-1408-4457-a7fd-3306a9fac5a6"
      },
      "source": [
        "Using `torch.utils.data.random_split`, we generate the training and validation sets along with the respective data loaders:"
      ]
    },
    {
      "cell_type": "code",
      "execution_count": 20,
      "id": "22a0e19a-de40-4309-b197-368a781a5633",
      "metadata": {
        "id": "22a0e19a-de40-4309-b197-368a781a5633"
      },
      "outputs": [],
      "source": [
        "import torch\n",
        "\n",
        "dataset = MyDataset(X_features, y_labels)\n",
        "\n",
        "torch.manual_seed(1)\n",
        "train_set, val_set = torch.utils.data.random_split(dataset, [train_size, val_size])\n",
        "\n",
        "train_loader = DataLoader(\n",
        "    dataset=train_set,\n",
        "    batch_size=10,\n",
        "    shuffle=True,\n",
        ")\n",
        "\n",
        "val_loader = DataLoader(\n",
        "    dataset=val_set,\n",
        "    batch_size=10,\n",
        "    shuffle=False,\n",
        ")"
      ]
    },
    {
      "cell_type": "markdown",
      "id": "e3a0b2f5-66f5-45e5-9b0a-f4960fc40388",
      "metadata": {
        "id": "e3a0b2f5-66f5-45e5-9b0a-f4960fc40388"
      },
      "source": [
        "## 4) Implementing the model"
      ]
    },
    {
      "cell_type": "markdown",
      "id": "dee409f0-02e0-4591-abf1-5e2c6c41a187",
      "metadata": {
        "id": "dee409f0-02e0-4591-abf1-5e2c6c41a187"
      },
      "source": [
        "Here, we are resusing the same model code we used in Unit 3.6:"
      ]
    },
    {
      "cell_type": "code",
      "execution_count": 21,
      "id": "3da86d9a-7cd5-467c-bf65-3388fe272bd5",
      "metadata": {
        "id": "3da86d9a-7cd5-467c-bf65-3388fe272bd5"
      },
      "outputs": [],
      "source": [
        "import torch\n",
        "\n",
        "class LogisticRegression(torch.nn.Module):\n",
        "\n",
        "    def __init__(self, num_features):\n",
        "        super().__init__()\n",
        "        self.linear = torch.nn.Linear(num_features, 1)\n",
        "\n",
        "    def forward(self, x):\n",
        "        logits = self.linear(x)\n",
        "        probas = torch.sigmoid(logits)\n",
        "        return probas"
      ]
    },
    {
      "cell_type": "markdown",
      "id": "c8340676-a3da-49cf-aeae-c0a3329734c5",
      "metadata": {
        "id": "c8340676-a3da-49cf-aeae-c0a3329734c5"
      },
      "source": [
        "## 5) The training loop"
      ]
    },
    {
      "cell_type": "markdown",
      "id": "1660ca15-18d5-4a55-94f1-e9f543bd8748",
      "metadata": {
        "id": "1660ca15-18d5-4a55-94f1-e9f543bd8748"
      },
      "source": [
        "In this section, we are using the training loop from Unit 3.6. It's the exact same code except for some small modification: We added the line `if not batch_idx % 20` to only print the loss for every 20th batch (to reduce the number of output lines).\n",
        "\n",
        "<font color='red'>YOUR TASK is to find a good learning rate and epoch number so that you achieve a training and validation performance of at least 98%.</font>"
      ]
    },
    {
      "cell_type": "code",
      "execution_count": 66,
      "id": "79c712f6-4e2a-43e9-8563-215f88beb4a8",
      "metadata": {
        "id": "79c712f6-4e2a-43e9-8563-215f88beb4a8",
        "outputId": "5b8a252d-64d2-4183-ed2f-2d40142c8483",
        "colab": {
          "base_uri": "https://localhost:8080/"
        }
      },
      "outputs": [
        {
          "output_type": "stream",
          "name": "stdout",
          "text": [
            "Epoch: 001/020 | Batch 000/110 | Loss: 1.30\n",
            "Epoch: 001/020 | Batch 020/110 | Loss: 0.57\n",
            "Epoch: 001/020 | Batch 040/110 | Loss: 0.48\n",
            "Epoch: 001/020 | Batch 060/110 | Loss: 0.23\n",
            "Epoch: 001/020 | Batch 080/110 | Loss: 0.16\n",
            "Epoch: 001/020 | Batch 100/110 | Loss: 0.17\n",
            "Epoch: 002/020 | Batch 000/110 | Loss: 0.29\n",
            "Epoch: 002/020 | Batch 020/110 | Loss: 0.14\n",
            "Epoch: 002/020 | Batch 040/110 | Loss: 0.29\n",
            "Epoch: 002/020 | Batch 060/110 | Loss: 0.13\n",
            "Epoch: 002/020 | Batch 080/110 | Loss: 0.14\n",
            "Epoch: 002/020 | Batch 100/110 | Loss: 0.14\n",
            "Epoch: 003/020 | Batch 000/110 | Loss: 0.09\n",
            "Epoch: 003/020 | Batch 020/110 | Loss: 0.20\n",
            "Epoch: 003/020 | Batch 040/110 | Loss: 0.14\n",
            "Epoch: 003/020 | Batch 060/110 | Loss: 0.31\n",
            "Epoch: 003/020 | Batch 080/110 | Loss: 0.12\n",
            "Epoch: 003/020 | Batch 100/110 | Loss: 0.08\n",
            "Epoch: 004/020 | Batch 000/110 | Loss: 0.10\n",
            "Epoch: 004/020 | Batch 020/110 | Loss: 0.04\n",
            "Epoch: 004/020 | Batch 040/110 | Loss: 0.13\n",
            "Epoch: 004/020 | Batch 060/110 | Loss: 0.11\n",
            "Epoch: 004/020 | Batch 080/110 | Loss: 0.03\n",
            "Epoch: 004/020 | Batch 100/110 | Loss: 0.08\n",
            "Epoch: 005/020 | Batch 000/110 | Loss: 0.24\n",
            "Epoch: 005/020 | Batch 020/110 | Loss: 0.11\n",
            "Epoch: 005/020 | Batch 040/110 | Loss: 0.07\n",
            "Epoch: 005/020 | Batch 060/110 | Loss: 0.17\n",
            "Epoch: 005/020 | Batch 080/110 | Loss: 0.13\n",
            "Epoch: 005/020 | Batch 100/110 | Loss: 0.16\n",
            "Epoch: 006/020 | Batch 000/110 | Loss: 0.14\n",
            "Epoch: 006/020 | Batch 020/110 | Loss: 0.12\n",
            "Epoch: 006/020 | Batch 040/110 | Loss: 0.25\n",
            "Epoch: 006/020 | Batch 060/110 | Loss: 0.11\n",
            "Epoch: 006/020 | Batch 080/110 | Loss: 0.06\n",
            "Epoch: 006/020 | Batch 100/110 | Loss: 0.12\n",
            "Epoch: 007/020 | Batch 000/110 | Loss: 0.04\n",
            "Epoch: 007/020 | Batch 020/110 | Loss: 0.01\n",
            "Epoch: 007/020 | Batch 040/110 | Loss: 0.08\n",
            "Epoch: 007/020 | Batch 060/110 | Loss: 0.02\n",
            "Epoch: 007/020 | Batch 080/110 | Loss: 0.13\n",
            "Epoch: 007/020 | Batch 100/110 | Loss: 0.07\n",
            "Epoch: 008/020 | Batch 000/110 | Loss: 0.09\n",
            "Epoch: 008/020 | Batch 020/110 | Loss: 0.06\n",
            "Epoch: 008/020 | Batch 040/110 | Loss: 0.03\n",
            "Epoch: 008/020 | Batch 060/110 | Loss: 0.14\n",
            "Epoch: 008/020 | Batch 080/110 | Loss: 0.06\n",
            "Epoch: 008/020 | Batch 100/110 | Loss: 0.16\n",
            "Epoch: 009/020 | Batch 000/110 | Loss: 0.06\n",
            "Epoch: 009/020 | Batch 020/110 | Loss: 0.06\n",
            "Epoch: 009/020 | Batch 040/110 | Loss: 0.02\n",
            "Epoch: 009/020 | Batch 060/110 | Loss: 0.09\n",
            "Epoch: 009/020 | Batch 080/110 | Loss: 0.05\n",
            "Epoch: 009/020 | Batch 100/110 | Loss: 0.05\n",
            "Epoch: 010/020 | Batch 000/110 | Loss: 0.10\n",
            "Epoch: 010/020 | Batch 020/110 | Loss: 0.05\n",
            "Epoch: 010/020 | Batch 040/110 | Loss: 0.05\n",
            "Epoch: 010/020 | Batch 060/110 | Loss: 0.09\n",
            "Epoch: 010/020 | Batch 080/110 | Loss: 0.08\n",
            "Epoch: 010/020 | Batch 100/110 | Loss: 0.01\n",
            "Epoch: 011/020 | Batch 000/110 | Loss: 0.03\n",
            "Epoch: 011/020 | Batch 020/110 | Loss: 0.01\n",
            "Epoch: 011/020 | Batch 040/110 | Loss: 0.22\n",
            "Epoch: 011/020 | Batch 060/110 | Loss: 0.08\n",
            "Epoch: 011/020 | Batch 080/110 | Loss: 0.18\n",
            "Epoch: 011/020 | Batch 100/110 | Loss: 0.01\n",
            "Epoch: 012/020 | Batch 000/110 | Loss: 0.07\n",
            "Epoch: 012/020 | Batch 020/110 | Loss: 0.01\n",
            "Epoch: 012/020 | Batch 040/110 | Loss: 0.07\n",
            "Epoch: 012/020 | Batch 060/110 | Loss: 0.05\n",
            "Epoch: 012/020 | Batch 080/110 | Loss: 0.07\n",
            "Epoch: 012/020 | Batch 100/110 | Loss: 0.02\n",
            "Epoch: 013/020 | Batch 000/110 | Loss: 0.03\n",
            "Epoch: 013/020 | Batch 020/110 | Loss: 0.03\n",
            "Epoch: 013/020 | Batch 040/110 | Loss: 0.05\n",
            "Epoch: 013/020 | Batch 060/110 | Loss: 0.04\n",
            "Epoch: 013/020 | Batch 080/110 | Loss: 0.09\n",
            "Epoch: 013/020 | Batch 100/110 | Loss: 0.22\n",
            "Epoch: 014/020 | Batch 000/110 | Loss: 0.10\n",
            "Epoch: 014/020 | Batch 020/110 | Loss: 0.04\n",
            "Epoch: 014/020 | Batch 040/110 | Loss: 0.02\n",
            "Epoch: 014/020 | Batch 060/110 | Loss: 0.11\n",
            "Epoch: 014/020 | Batch 080/110 | Loss: 0.02\n",
            "Epoch: 014/020 | Batch 100/110 | Loss: 0.09\n",
            "Epoch: 015/020 | Batch 000/110 | Loss: 0.15\n",
            "Epoch: 015/020 | Batch 020/110 | Loss: 0.02\n",
            "Epoch: 015/020 | Batch 040/110 | Loss: 0.02\n",
            "Epoch: 015/020 | Batch 060/110 | Loss: 0.02\n",
            "Epoch: 015/020 | Batch 080/110 | Loss: 0.03\n",
            "Epoch: 015/020 | Batch 100/110 | Loss: 0.17\n",
            "Epoch: 016/020 | Batch 000/110 | Loss: 0.01\n",
            "Epoch: 016/020 | Batch 020/110 | Loss: 0.03\n",
            "Epoch: 016/020 | Batch 040/110 | Loss: 0.01\n",
            "Epoch: 016/020 | Batch 060/110 | Loss: 0.04\n",
            "Epoch: 016/020 | Batch 080/110 | Loss: 0.01\n",
            "Epoch: 016/020 | Batch 100/110 | Loss: 0.03\n",
            "Epoch: 017/020 | Batch 000/110 | Loss: 0.01\n",
            "Epoch: 017/020 | Batch 020/110 | Loss: 0.11\n",
            "Epoch: 017/020 | Batch 040/110 | Loss: 0.01\n",
            "Epoch: 017/020 | Batch 060/110 | Loss: 0.09\n",
            "Epoch: 017/020 | Batch 080/110 | Loss: 0.06\n",
            "Epoch: 017/020 | Batch 100/110 | Loss: 0.06\n",
            "Epoch: 018/020 | Batch 000/110 | Loss: 0.07\n",
            "Epoch: 018/020 | Batch 020/110 | Loss: 0.02\n",
            "Epoch: 018/020 | Batch 040/110 | Loss: 0.06\n",
            "Epoch: 018/020 | Batch 060/110 | Loss: 0.06\n",
            "Epoch: 018/020 | Batch 080/110 | Loss: 0.06\n",
            "Epoch: 018/020 | Batch 100/110 | Loss: 0.01\n",
            "Epoch: 019/020 | Batch 000/110 | Loss: 0.01\n",
            "Epoch: 019/020 | Batch 020/110 | Loss: 0.05\n",
            "Epoch: 019/020 | Batch 040/110 | Loss: 0.02\n",
            "Epoch: 019/020 | Batch 060/110 | Loss: 0.02\n",
            "Epoch: 019/020 | Batch 080/110 | Loss: 0.01\n",
            "Epoch: 019/020 | Batch 100/110 | Loss: 0.06\n",
            "Epoch: 020/020 | Batch 000/110 | Loss: 0.09\n",
            "Epoch: 020/020 | Batch 020/110 | Loss: 0.08\n",
            "Epoch: 020/020 | Batch 040/110 | Loss: 0.05\n",
            "Epoch: 020/020 | Batch 060/110 | Loss: 0.03\n",
            "Epoch: 020/020 | Batch 080/110 | Loss: 0.02\n",
            "Epoch: 020/020 | Batch 100/110 | Loss: 0.02\n"
          ]
        }
      ],
      "source": [
        "import torch.nn.functional as F\n",
        "\n",
        "\n",
        "torch.manual_seed(1)\n",
        "model = LogisticRegression(num_features=4)\n",
        "optimizer = torch.optim.SGD(model.parameters(), lr=0.02) ## FILL IN VALUE\n",
        "\n",
        "num_epochs = 20  ## FILL IN VALUE\n",
        "\n",
        "for epoch in range(num_epochs):\n",
        "\n",
        "    model = model.train()\n",
        "    for batch_idx, (features, class_labels) in enumerate(train_loader):\n",
        "\n",
        "        probas = model(features)\n",
        "\n",
        "        loss = F.binary_cross_entropy(probas, class_labels.view(probas.shape))\n",
        "\n",
        "        optimizer.zero_grad()\n",
        "        loss.backward()\n",
        "        optimizer.step()\n",
        "\n",
        "        ### LOGGING\n",
        "        if not batch_idx % 20: # log every 20th batch\n",
        "            print(f'Epoch: {epoch+1:03d}/{num_epochs:03d}'\n",
        "                   f' | Batch {batch_idx:03d}/{len(train_loader):03d}'\n",
        "                   f' | Loss: {loss:.2f}')"
      ]
    },
    {
      "cell_type": "markdown",
      "id": "41396cca-8920-4edd-9075-588c03d81f01",
      "metadata": {
        "id": "41396cca-8920-4edd-9075-588c03d81f01"
      },
      "source": [
        "## 6) Evaluating the results"
      ]
    },
    {
      "cell_type": "markdown",
      "id": "f458e2cc-011c-48e5-b66a-5ef568114242",
      "metadata": {
        "id": "f458e2cc-011c-48e5-b66a-5ef568114242"
      },
      "source": [
        "Again, reusing the code from Unit 3.6, we will calculate the training and validation set accuracy."
      ]
    },
    {
      "cell_type": "code",
      "execution_count": 67,
      "id": "4b6473aa-98ac-4ffe-84b5-cb5a2d511018",
      "metadata": {
        "id": "4b6473aa-98ac-4ffe-84b5-cb5a2d511018"
      },
      "outputs": [],
      "source": [
        "def compute_accuracy(model, dataloader):\n",
        "\n",
        "    model = model.eval()\n",
        "\n",
        "    correct = 0.0\n",
        "    total_examples = 0\n",
        "\n",
        "    for idx, (features, class_labels) in enumerate(dataloader):\n",
        "\n",
        "        with torch.no_grad():\n",
        "            probas = model(features)\n",
        "\n",
        "        pred = torch.where(probas > 0.5, 1, 0)\n",
        "        lab = class_labels.view(pred.shape).to(pred.dtype)\n",
        "\n",
        "        compare = lab == pred\n",
        "        correct += torch.sum(compare)\n",
        "        total_examples += len(compare)\n",
        "\n",
        "    return correct / total_examples"
      ]
    },
    {
      "cell_type": "code",
      "execution_count": 68,
      "id": "70de800b-4138-49ac-b4cc-e89605b78a3d",
      "metadata": {
        "id": "70de800b-4138-49ac-b4cc-e89605b78a3d",
        "outputId": "2d4d35c9-3893-4fcf-995d-3bdb788aa30c",
        "colab": {
          "base_uri": "https://localhost:8080/"
        }
      },
      "outputs": [
        {
          "output_type": "stream",
          "name": "stdout",
          "text": [
            "Accuracy: 98.45%\n"
          ]
        }
      ],
      "source": [
        "train_acc = compute_accuracy(model, train_loader)\n",
        "print(f\"Accuracy: {train_acc*100:.2f}%\")"
      ]
    },
    {
      "cell_type": "markdown",
      "id": "c01e464b-cc38-41b7-9d7f-6baafba73f56",
      "metadata": {
        "id": "c01e464b-cc38-41b7-9d7f-6baafba73f56"
      },
      "source": [
        "<font color='red'>Notice that the code validation accuracy is not shown? It's part of the exercise to implement it :)</font>"
      ]
    },
    {
      "cell_type": "code",
      "execution_count": 69,
      "id": "7edead56-db64-4667-8007-937ab1974ac0",
      "metadata": {
        "id": "7edead56-db64-4667-8007-937ab1974ac0",
        "outputId": "7887107c-9877-4d6a-d30d-070d06add3f4",
        "colab": {
          "base_uri": "https://localhost:8080/"
        }
      },
      "outputs": [
        {
          "output_type": "stream",
          "name": "stdout",
          "text": [
            "Accuracy: 98.91%\n"
          ]
        }
      ],
      "source": [
        "## YOUR CODE\n",
        "val_acc = compute_accuracy(model, val_loader)\n",
        "print(f\"Accuracy: {val_acc*100:.2f}%\")"
      ]
    },
    {
      "cell_type": "code",
      "execution_count": null,
      "id": "5b5a130b-a752-4ec4-9d3b-58fd20d0bc6e",
      "metadata": {
        "id": "5b5a130b-a752-4ec4-9d3b-58fd20d0bc6e"
      },
      "outputs": [],
      "source": []
    }
  ],
  "metadata": {
    "kernelspec": {
      "display_name": "Python 3 (ipykernel)",
      "language": "python",
      "name": "python3"
    },
    "language_info": {
      "codemirror_mode": {
        "name": "ipython",
        "version": 3
      },
      "file_extension": ".py",
      "mimetype": "text/x-python",
      "name": "python",
      "nbconvert_exporter": "python",
      "pygments_lexer": "ipython3",
      "version": "3.9.7"
    },
    "colab": {
      "provenance": []
    }
  },
  "nbformat": 4,
  "nbformat_minor": 5
}